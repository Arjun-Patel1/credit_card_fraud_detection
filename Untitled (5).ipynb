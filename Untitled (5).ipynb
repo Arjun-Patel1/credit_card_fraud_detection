{
 "cells": [
  {
   "cell_type": "code",
   "execution_count": 10,
   "id": "e8419c0d-8e9e-4da4-ab4b-42f76c8560ef",
   "metadata": {},
   "outputs": [],
   "source": [
    "# Step 1: Import Libraries\n",
    "import pandas as pd\n",
    "import numpy as np\n",
    "from sklearn.model_selection import train_test_split\n",
    "from sklearn.preprocessing import StandardScaler\n",
    "from imblearn.over_sampling import RandomOverSampler\n",
    "from pathlib import Path\n",
    "\n",
    "import matplotlib.pyplot as plt\n",
    "import seaborn as sns\n",
    "sns.set(style=\"whitegrid\")"
   ]
  },
  {
   "cell_type": "code",
   "execution_count": 12,
   "id": "c5f768c6-1bce-4900-b7b2-f64453e410a9",
   "metadata": {},
   "outputs": [
    {
     "name": "stdout",
     "output_type": "stream",
     "text": [
      "Shape: (568630, 31)\n",
      "   id        V1        V2        V3        V4        V5        V6        V7  \\\n",
      "0   0 -0.260648 -0.469648  2.496266 -0.083724  0.129681  0.732898  0.519014   \n",
      "1   1  0.985100 -0.356045  0.558056 -0.429654  0.277140  0.428605  0.406466   \n",
      "2   2 -0.260272 -0.949385  1.728538 -0.457986  0.074062  1.419481  0.743511   \n",
      "3   3 -0.152152 -0.508959  1.746840 -1.090178  0.249486  1.143312  0.518269   \n",
      "4   4 -0.206820 -0.165280  1.527053 -0.448293  0.106125  0.530549  0.658849   \n",
      "\n",
      "         V8        V9  ...       V21       V22       V23       V24       V25  \\\n",
      "0 -0.130006  0.727159  ... -0.110552  0.217606 -0.134794  0.165959  0.126280   \n",
      "1 -0.133118  0.347452  ... -0.194936 -0.605761  0.079469 -0.577395  0.190090   \n",
      "2 -0.095576 -0.261297  ... -0.005020  0.702906  0.945045 -1.154666 -0.605564   \n",
      "3 -0.065130 -0.205698  ... -0.146927 -0.038212 -0.214048 -1.893131  1.003963   \n",
      "4 -0.212660  1.049921  ... -0.106984  0.729727 -0.161666  0.312561 -0.414116   \n",
      "\n",
      "        V26       V27       V28    Amount  Class  \n",
      "0 -0.434824 -0.081230 -0.151045  17982.10      0  \n",
      "1  0.296503 -0.248052 -0.064512   6531.37      0  \n",
      "2 -0.312895 -0.300258 -0.244718   2513.54      0  \n",
      "3 -0.515950 -0.165316  0.048424   5384.44      0  \n",
      "4  1.071126  0.023712  0.419117  14278.97      0  \n",
      "\n",
      "[5 rows x 31 columns]\n"
     ]
    }
   ],
   "source": [
    "# Step 2: Load Dataset\n",
    "data_path = Path(\"../data/creditcard_2023.csv\")  # adjust path if needed\n",
    "df = pd.read_csv(data_path)\n",
    "\n",
    "# Quick look\n",
    "print(\"Shape:\", df.shape)\n",
    "print(df.head())"
   ]
  },
  {
   "cell_type": "code",
   "execution_count": 16,
   "id": "e7bb2ab9-1ceb-4159-b821-c3eb313f9232",
   "metadata": {},
   "outputs": [
    {
     "name": "stdout",
     "output_type": "stream",
     "text": [
      "\n",
      "Fraud Class Distribution:\n",
      " Class\n",
      "0    284315\n",
      "1    284315\n",
      "Name: count, dtype: int64\n"
     ]
    },
    {
     "data": {
      "image/png": "[encoded data removed]",
      "text/plain": [
       "<Figure size 640x480 with 1 Axes>"
      ]
     },
     "metadata": {},
     "output_type": "display_data"
    }
   ],
   "source": [
    "\n",
    "# Check Class Distribution\n",
    "fraud_count = df['Class'].value_counts()\n",
    "print(\"\\nFraud Class Distribution:\\n\", fraud_count)\n",
    "sns.barplot(x=fraud_count.index, y=fraud_count.values)\n",
    "plt.title(\"Fraud vs Non-Fraud Transactions\")\n",
    "plt.ylabel(\"Count\")\n",
    "plt.xlabel(\"Class (0=Non-Fraud, 1=Fraud)\")\n",
    "plt.show()"
   ]
  },
  {
   "cell_type": "code",
   "execution_count": 18,
   "id": "346a159f-42a5-49c4-b4ec-7036fb33ad18",
   "metadata": {},
   "outputs": [
    {
     "name": "stdout",
     "output_type": "stream",
     "text": [
      "Feature Columns: ['V1', 'V2', 'V3', 'V4', 'V5', 'V6', 'V7', 'V8', 'V9', 'V10', 'V11', 'V12', 'V13', 'V14', 'V15', 'V16', 'V17', 'V18', 'V19', 'V20', 'V21', 'V22', 'V23', 'V24', 'V25', 'V26', 'V27', 'V28', 'Amount_log', 'Amount_x_Hour']\n",
      "Shape: (568630, 30)\n",
      "Target Distribution:\n",
      " Class\n",
      "0    284315\n",
      "1    284315\n",
      "Name: count, dtype: int64\n"
     ]
    }
   ],
   "source": [
    "# 2a. Log-transform Amount to reduce skewness\n",
    "df['Amount_log'] = np.log1p(df['Amount'].clip(lower=0))\n",
    "\n",
    "# 2b. Time-based features (if 'Time' exists)\n",
    "if 'Time' in df.columns:\n",
    "    df['Hour'] = ((df['Time'] / 3600) % 24).astype(int)       # Hour of the day\n",
    "    df['Is_Night'] = df['Hour'].isin([0,1,2,3,4,5]).astype(int)  # Night flag\n",
    "\n",
    "# 2c. Optional: Feature interactions (example)\n",
    "df['Amount_x_Hour'] = df['Amount_log'] * (df['Hour'] if 'Hour' in df.columns else 0)\n",
    "\n",
    "# 2d. Separate PCA features (V1-V28)\n",
    "pca_cols = [c for c in df.columns if c.startswith('V')]\n",
    "\n",
    "# 2e. Scaling numeric features\n",
    "numeric_cols = pca_cols + ['Amount_log', 'Amount_x_Hour']\n",
    "if 'Hour' in df.columns:\n",
    "    numeric_cols += ['Hour']\n",
    "\n",
    "scaler = StandardScaler()\n",
    "df[numeric_cols] = scaler.fit_transform(df[numeric_cols])\n",
    "\n",
    "# Step 3: Final Feature List for Modeling\n",
    "features = numeric_cols + (['Is_Night'] if 'Is_Night' in df.columns else [])\n",
    "X = df[features]\n",
    "y = df['Class']\n",
    "\n",
    "print(\"Feature Columns:\", X.columns.tolist())\n",
    "print(\"Shape:\", X.shape)\n",
    "print(\"Target Distribution:\\n\", y.value_counts())"
   ]
  },
  {
   "cell_type": "code",
   "execution_count": 20,
   "id": "88a3ebd9-4ec8-4286-a96c-add92609c49f",
   "metadata": {},
   "outputs": [
    {
     "name": "stdout",
     "output_type": "stream",
     "text": [
      "Train: (398041, 30) Val: (85294, 30) Test: (85295, 30)\n"
     ]
    }
   ],
   "source": [
    "from sklearn.model_selection import train_test_split\n",
    "\n",
    "# Stratified split to maintain class balance (though already balanced)\n",
    "X_train, X_temp, y_train, y_temp = train_test_split(\n",
    "    X, y, test_size=0.3, stratify=y, random_state=42\n",
    ")\n",
    "X_val, X_test, y_val, y_test = train_test_split(\n",
    "    X_temp, y_temp, test_size=0.5, stratify=y_temp, random_state=42\n",
    ")\n",
    "\n",
    "print(\"Train:\", X_train.shape, \"Val:\", X_val.shape, \"Test:\", X_test.shape)\n"
   ]
  },
  {
   "cell_type": "code",
   "execution_count": 22,
   "id": "0e72957e-f32a-454f-997c-b39768facb91",
   "metadata": {},
   "outputs": [
    {
     "name": "stdout",
     "output_type": "stream",
     "text": [
      "[0]\tvalidation_0-logloss:0.65053\n"
     ]
    },
    {
     "name": "stderr",
     "output_type": "stream",
     "text": [
      "C:\\Users\\arjun\\anaconda3\\Lib\\site-packages\\xgboost\\training.py:183: UserWarning: [06:11:53] WARNING: C:\\actions-runner\\_work\\xgboost\\xgboost\\src\\learner.cc:738: \n",
      "Parameters: { \"use_label_encoder\" } are not used.\n",
      "\n",
      "  bst.update(dtrain, iteration=i, fobj=obj)\n"
     ]
    },
    {
     "name": "stdout",
     "output_type": "stream",
     "text": [
      "[50]\tvalidation_0-logloss:0.10647\n",
      "[100]\tvalidation_0-logloss:0.05898\n",
      "[150]\tvalidation_0-logloss:0.03750\n",
      "[200]\tvalidation_0-logloss:0.02633\n",
      "[250]\tvalidation_0-logloss:0.01870\n",
      "[300]\tvalidation_0-logloss:0.01320\n",
      "[350]\tvalidation_0-logloss:0.00996\n",
      "[400]\tvalidation_0-logloss:0.00778\n",
      "[450]\tvalidation_0-logloss:0.00619\n",
      "[499]\tvalidation_0-logloss:0.00486\n",
      "              precision    recall  f1-score   support\n",
      "\n",
      "           0       1.00      1.00      1.00     42648\n",
      "           1       1.00      1.00      1.00     42647\n",
      "\n",
      "    accuracy                           1.00     85295\n",
      "   macro avg       1.00      1.00      1.00     85295\n",
      "weighted avg       1.00      1.00      1.00     85295\n",
      "\n",
      "ROC-AUC: 0.9999559266593044\n"
     ]
    }
   ],
   "source": [
    "from xgboost import XGBClassifier\n",
    "from sklearn.metrics import classification_report, roc_auc_score\n",
    "\n",
    "# Initialize model\n",
    "xgb_model = XGBClassifier(\n",
    "    n_estimators=500,\n",
    "    max_depth=5,\n",
    "    learning_rate=0.05,\n",
    "    random_state=42,\n",
    "    use_label_encoder=False,\n",
    "    eval_metric='logloss'\n",
    ")\n",
    "\n",
    "# Train\n",
    "xgb_model.fit(X_train, y_train, eval_set=[(X_val, y_val)], verbose=50)\n",
    "\n",
    "# Predict & Evaluate\n",
    "y_pred = xgb_model.predict(X_test)\n",
    "y_proba = xgb_model.predict_proba(X_test)[:,1]\n",
    "\n",
    "print(classification_report(y_test, y_pred))\n",
    "print(\"ROC-AUC:\", roc_auc_score(y_test, y_proba))\n"
   ]
  },
  {
   "cell_type": "code",
   "execution_count": 32,
   "id": "9edb76a8-9c60-4686-acca-1df74694290c",
   "metadata": {},
   "outputs": [
    {
     "data": {
      "text/plain": [
       "<sklearn.metrics._plot.confusion_matrix.ConfusionMatrixDisplay at 0x1f919009760>"
      ]
     },
     "execution_count": 32,
     "metadata": {},
     "output_type": "execute_result"
    },
    {
     "data": {
      "image/png": "[encoded data removed]",
      "text/plain": [
       "<Figure size 640x480 with 2 Axes>"
      ]
     },
     "metadata": {},
     "output_type": "display_data"
    }
   ],
   "source": [
    "from sklearn.metrics import confusion_matrix, ConfusionMatrixDisplay\n",
    "\n",
    "# Predict on test set\n",
    "y_pred = xgb_model.predict(X_test)\n",
    "\n",
    "# Generate confusion matrix\n",
    "cm = confusion_matrix(y_test, y_pred)\n",
    "\n",
    "# Display\n",
    "disp = ConfusionMatrixDisplay(confusion_matrix=cm, display_labels=[0, 1])\n",
    "disp.plot(cmap='Blues')\n"
   ]
  },
  {
   "cell_type": "code",
   "execution_count": 34,
   "id": "1089a673-14e9-4277-8243-057371575c8b",
   "metadata": {},
   "outputs": [
    {
     "name": "stdout",
     "output_type": "stream",
     "text": [
      "Model saved as credit_card_fraud_xgb.pkl\n"
     ]
    }
   ],
   "source": [
    "import joblib\n",
    "\n",
    "# Save the model\n",
    "joblib.dump(xgb_model, \"credit_card_fraud_xgb.pkl\")\n",
    "\n",
    "print(\"Model saved as credit_card_fraud_xgb.pkl\")\n"
   ]
  },
  {
   "cell_type": "code",
   "execution_count": null,
   "id": "6dd22a66-c895-4053-af84-b3baf51562ba",
   "metadata": {},
   "outputs": [],
   "source": []
  }
 ],
 "metadata": {
  "kernelspec": {
   "display_name": "Python [conda env:base] *",
   "language": "python",
   "name": "conda-base-py"
  },
  "language_info": {
   "codemirror_mode": {
    "name": "ipython",
    "version": 3
   },
   "file_extension": ".py",
   "mimetype": "text/x-python",
   "name": "python",
   "nbconvert_exporter": "python",
   "pygments_lexer": "ipython3",
   "version": "3.12.7"
  }
 },
 "nbformat": 4,
 "nbformat_minor": 5
}
